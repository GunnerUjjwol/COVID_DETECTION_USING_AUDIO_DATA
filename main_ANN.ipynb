{
 "cells": [
  {
   "cell_type": "markdown",
   "id": "cardiovascular-study",
   "metadata": {},
   "source": [
    "#### Audio Classification Data Preprocessing"
   ]
  },
  {
   "cell_type": "markdown",
   "id": "comparative-ontario",
   "metadata": {},
   "source": [
    "#### Observation\n",
    "Here Librosa converts the signal to mono, meaning the channel will alays be 1"
   ]
  },
  {
   "cell_type": "markdown",
   "id": "applicable-priest",
   "metadata": {},
   "source": [
    "### Extract Features\n",
    "Here we will be using Mel-Frequency Cepstral Coefficients(MFCC) from the audio \n",
    "samples.\n",
    "The MFCC summarises the frequency distribution across the window size, so it is possible to analyse both the frequency and time characteristics of the sound. These audio representations will allow us to identify features for classification."
   ]
  },
  {
   "cell_type": "code",
   "execution_count": 203,
   "id": "liberal-journalist",
   "metadata": {},
   "outputs": [],
   "source": [
    "#### Extracting MFCC's For every audio file\n",
    "import pandas as pd\n",
    "import os\n",
    "import librosa\n",
    "import numpy as np\n",
    "\n",
    "#breathing_dataset_path='AUDIO/breathing'\n",
    "breathing_dataset_path='AUGMENTED_AUDIO/breathing'\n",
    "test_breathing_dataset_path='TEST_AUDIO/breathing'\n",
    "\n",
    "# cough_dataset_path='AUDIO/cough'\n",
    "# test_cough_dataset_path='TEST_AUDIO/cough'\n",
    "\n",
    "\n",
    "# speech_dataset_path='AUDIO/breathing'\n",
    "# test_speech_dataset_path='TEST_AUDIO/breathing'\n"
   ]
  },
  {
   "cell_type": "code",
   "execution_count": 204,
   "id": "52dc29c5-c506-43d7-ab1a-e8cdc4ed7782",
   "metadata": {},
   "outputs": [
    {
     "data": {
      "text/html": [
       "<div>\n",
       "<style scoped>\n",
       "    .dataframe tbody tr th:only-of-type {\n",
       "        vertical-align: middle;\n",
       "    }\n",
       "\n",
       "    .dataframe tbody tr th {\n",
       "        vertical-align: top;\n",
       "    }\n",
       "\n",
       "    .dataframe thead th {\n",
       "        text-align: right;\n",
       "    }\n",
       "</style>\n",
       "<table border=\"1\" class=\"dataframe\">\n",
       "  <thead>\n",
       "    <tr style=\"text-align: right;\">\n",
       "      <th></th>\n",
       "      <th>SUB_ID</th>\n",
       "      <th>COVID_STATUS</th>\n",
       "      <th>GENDER</th>\n",
       "    </tr>\n",
       "  </thead>\n",
       "  <tbody>\n",
       "    <tr>\n",
       "      <th>0</th>\n",
       "      <td>NPHYFCYK</td>\n",
       "      <td>n</td>\n",
       "      <td>m</td>\n",
       "    </tr>\n",
       "    <tr>\n",
       "      <th>1</th>\n",
       "      <td>HTCFAFDO</td>\n",
       "      <td>n</td>\n",
       "      <td>m</td>\n",
       "    </tr>\n",
       "    <tr>\n",
       "      <th>2</th>\n",
       "      <td>XLIOSZXS</td>\n",
       "      <td>n</td>\n",
       "      <td>m</td>\n",
       "    </tr>\n",
       "    <tr>\n",
       "      <th>3</th>\n",
       "      <td>FONIOYTJ</td>\n",
       "      <td>n</td>\n",
       "      <td>m</td>\n",
       "    </tr>\n",
       "    <tr>\n",
       "      <th>4</th>\n",
       "      <td>DZEREGIM</td>\n",
       "      <td>n</td>\n",
       "      <td>m</td>\n",
       "    </tr>\n",
       "  </tbody>\n",
       "</table>\n",
       "</div>"
      ],
      "text/plain": [
       "     SUB_ID COVID_STATUS GENDER\n",
       "0  NPHYFCYK            n      m\n",
       "1  HTCFAFDO            n      m\n",
       "2  XLIOSZXS            n      m\n",
       "3  FONIOYTJ            n      m\n",
       "4  DZEREGIM            n      m"
      ]
     },
     "execution_count": 204,
     "metadata": {},
     "output_type": "execute_result"
    }
   ],
   "source": [
    "#metadata=pd.read_csv('metadata.csv')\n",
    "metadata=pd.read_csv('augmented_metadata.csv')\n",
    "metadata.head()"
   ]
  },
  {
   "cell_type": "code",
   "execution_count": 205,
   "id": "chinese-calendar",
   "metadata": {},
   "outputs": [],
   "source": [
    "def features_extractor(file_name):\n",
    "    audio, sample_rate = librosa.load(file_name, res_type='kaiser_fast') \n",
    "    mfccs_features = librosa.feature.mfcc(y=audio, sr=sample_rate, n_mfcc=40)\n",
    "    mfccs_scaled_features = np.mean(mfccs_features.T,axis=0)\n",
    "    \n",
    "    return mfccs_scaled_features\n",
    "    "
   ]
  },
  {
   "cell_type": "code",
   "execution_count": 206,
   "id": "a47dec79-4eb5-434e-9747-a12ced28a9e0",
   "metadata": {},
   "outputs": [],
   "source": [
    "# example_feature = features_extractor('AUGMENTED_AUDIO/breathing/ABEEJBTZ.flac')"
   ]
  },
  {
   "cell_type": "code",
   "execution_count": 207,
   "id": "e518bb52-1e54-4843-a802-c7b637be8649",
   "metadata": {},
   "outputs": [],
   "source": [
    "# print(example_feature)"
   ]
  },
  {
   "cell_type": "code",
   "execution_count": 208,
   "id": "nuclear-sponsorship",
   "metadata": {},
   "outputs": [
    {
     "name": "stderr",
     "output_type": "stream",
     "text": [
      "1481it [02:45,  8.96it/s]\n"
     ]
    }
   ],
   "source": [
    "\n",
    "from tqdm import tqdm\n",
    "### Now we iterate through every audio file and extract features \n",
    "### using Mel-Frequency Cepstral Coefficients\n",
    "extracted_features=[]\n",
    "for index_num,row in tqdm(metadata.iterrows()):\n",
    "    file_name = os.path.join(os.path.abspath(breathing_dataset_path),str(row[\"SUB_ID\"]+'.flac'))\n",
    "    final_class_labels=row[\"COVID_STATUS\"]\n",
    "    if os.path.isfile(file_name):\n",
    "        data=features_extractor(file_name)\n",
    "        extracted_features.append([data,final_class_labels])\n",
    "    else:\n",
    "        print(\"ERROR to find the file\",file_name)"
   ]
  },
  {
   "cell_type": "code",
   "execution_count": 209,
   "id": "acoustic-wagner",
   "metadata": {},
   "outputs": [],
   "source": [
    "### converting extracted_features to Pandas dataframe\n",
    "extracted_features_df=pd.DataFrame(extracted_features,columns=['feature','class'])\n",
    "#extracted_features_df.head()\n"
   ]
  },
  {
   "cell_type": "code",
   "execution_count": 210,
   "id": "characteristic-sudan",
   "metadata": {},
   "outputs": [],
   "source": [
    "### Split the dataset into independent and dependent dataset\n",
    "X=np.array(extracted_features_df['feature'].tolist())\n",
    "y=np.array(extracted_features_df['class'].tolist())"
   ]
  },
  {
   "cell_type": "code",
   "execution_count": 211,
   "id": "friendly-placement",
   "metadata": {},
   "outputs": [
    {
     "data": {
      "text/plain": [
       "(1481, 40)"
      ]
     },
     "execution_count": 211,
     "metadata": {},
     "output_type": "execute_result"
    }
   ],
   "source": [
    "X.shape"
   ]
  },
  {
   "cell_type": "code",
   "execution_count": 212,
   "id": "japanese-cheese",
   "metadata": {},
   "outputs": [
    {
     "data": {
      "text/plain": [
       "array(['n', 'n', 'n', ..., 'p', 'p', 'p'], dtype='<U1')"
      ]
     },
     "execution_count": 212,
     "metadata": {},
     "output_type": "execute_result"
    }
   ],
   "source": [
    "y"
   ]
  },
  {
   "cell_type": "code",
   "execution_count": 213,
   "id": "wired-church",
   "metadata": {},
   "outputs": [],
   "source": [
    "### Label Encoding\n",
    "###y=np.array(pd.get_dummies(y))\n",
    "### Label Encoder\n",
    "from tensorflow.keras.utils import to_categorical\n",
    "from sklearn.preprocessing import LabelEncoder\n",
    "labelencoder=LabelEncoder()\n",
    "y=to_categorical(labelencoder.fit_transform(y))"
   ]
  },
  {
   "cell_type": "code",
   "execution_count": 214,
   "id": "sitting-anniversary",
   "metadata": {},
   "outputs": [
    {
     "data": {
      "text/plain": [
       "array([[1., 0.],\n",
       "       [1., 0.],\n",
       "       [1., 0.],\n",
       "       ...,\n",
       "       [0., 1.],\n",
       "       [0., 1.],\n",
       "       [0., 1.]], dtype=float32)"
      ]
     },
     "execution_count": 214,
     "metadata": {},
     "output_type": "execute_result"
    }
   ],
   "source": [
    "y"
   ]
  },
  {
   "cell_type": "code",
   "execution_count": 215,
   "id": "documentary-priority",
   "metadata": {},
   "outputs": [],
   "source": [
    "### Train Test Split\n",
    "from sklearn.model_selection import train_test_split\n",
    "X_train,X_test,y_train,y_test=train_test_split(X,y,test_size=0.2,random_state=0)"
   ]
  },
  {
   "cell_type": "code",
   "execution_count": 216,
   "id": "analyzed-payday",
   "metadata": {},
   "outputs": [
    {
     "data": {
      "text/plain": [
       "array([[-7.78018494e+02, -3.01640739e+01, -3.02195129e+01, ...,\n",
       "        -2.91667372e-01, -9.70910490e-01, -1.36435211e+00],\n",
       "       [-4.19306519e+02,  5.24211586e-01, -5.05692177e+01, ...,\n",
       "        -1.65192449e+00, -3.96591365e-01,  1.07823539e+00],\n",
       "       [-4.87690552e+02,  6.10781059e+01, -1.31738539e+01, ...,\n",
       "         1.77632833e+00, -2.10279250e+00, -1.98967552e+00],\n",
       "       ...,\n",
       "       [-6.15608643e+02,  2.93847370e+01, -1.23054969e+00, ...,\n",
       "        -9.94546354e-01,  1.21759176e-01,  8.16841125e-01],\n",
       "       [-4.67803864e+02,  4.18853493e+01, -2.05269012e+01, ...,\n",
       "         5.13740063e-01, -3.51367998e+00,  6.26599908e-01],\n",
       "       [-5.36224670e+02, -2.34993076e+01, -3.99812851e+01, ...,\n",
       "        -2.88042593e+00, -7.49136508e-01, -1.13020344e-02]], dtype=float32)"
      ]
     },
     "execution_count": 216,
     "metadata": {},
     "output_type": "execute_result"
    }
   ],
   "source": [
    "X_train"
   ]
  },
  {
   "cell_type": "code",
   "execution_count": 217,
   "id": "female-study",
   "metadata": {},
   "outputs": [
    {
     "data": {
      "text/plain": [
       "array([[1., 0.],\n",
       "       [1., 0.],\n",
       "       [1., 0.],\n",
       "       ...,\n",
       "       [0., 1.],\n",
       "       [0., 1.],\n",
       "       [0., 1.]], dtype=float32)"
      ]
     },
     "execution_count": 217,
     "metadata": {},
     "output_type": "execute_result"
    }
   ],
   "source": [
    "y"
   ]
  },
  {
   "cell_type": "code",
   "execution_count": 218,
   "id": "flexible-lithuania",
   "metadata": {},
   "outputs": [
    {
     "data": {
      "text/plain": [
       "(1184, 40)"
      ]
     },
     "execution_count": 218,
     "metadata": {},
     "output_type": "execute_result"
    }
   ],
   "source": [
    "X_train.shape"
   ]
  },
  {
   "cell_type": "code",
   "execution_count": 219,
   "id": "instrumental-equity",
   "metadata": {},
   "outputs": [
    {
     "data": {
      "text/plain": [
       "(297, 40)"
      ]
     },
     "execution_count": 219,
     "metadata": {},
     "output_type": "execute_result"
    }
   ],
   "source": [
    "X_test.shape"
   ]
  },
  {
   "cell_type": "code",
   "execution_count": 220,
   "id": "chemical-vermont",
   "metadata": {},
   "outputs": [
    {
     "data": {
      "text/plain": [
       "(1184, 2)"
      ]
     },
     "execution_count": 220,
     "metadata": {},
     "output_type": "execute_result"
    }
   ],
   "source": [
    "y_train.shape"
   ]
  },
  {
   "cell_type": "code",
   "execution_count": 221,
   "id": "governing-natural",
   "metadata": {},
   "outputs": [
    {
     "data": {
      "text/plain": [
       "(297, 2)"
      ]
     },
     "execution_count": 221,
     "metadata": {},
     "output_type": "execute_result"
    }
   ],
   "source": [
    "y_test.shape"
   ]
  },
  {
   "cell_type": "markdown",
   "id": "express-vessel",
   "metadata": {},
   "source": [
    "### Model Creation"
   ]
  },
  {
   "cell_type": "code",
   "execution_count": 222,
   "id": "loose-portugal",
   "metadata": {},
   "outputs": [
    {
     "name": "stdout",
     "output_type": "stream",
     "text": [
      "2.6.0\n"
     ]
    }
   ],
   "source": [
    "import tensorflow as tf\n",
    "print(tf.__version__)"
   ]
  },
  {
   "cell_type": "code",
   "execution_count": 223,
   "id": "indonesian-accessory",
   "metadata": {},
   "outputs": [],
   "source": [
    "from tensorflow.keras.models import Sequential\n",
    "from tensorflow.keras.layers import Dense,Dropout,Activation,Flatten\n",
    "from tensorflow.keras.optimizers import Adam\n",
    "from sklearn import metrics"
   ]
  },
  {
   "cell_type": "code",
   "execution_count": 224,
   "id": "valuable-substitute",
   "metadata": {},
   "outputs": [],
   "source": [
    "### No of classes\n",
    "num_labels=y.shape[1]"
   ]
  },
  {
   "cell_type": "code",
   "execution_count": 225,
   "id": "choice-contract",
   "metadata": {},
   "outputs": [
    {
     "data": {
      "text/plain": [
       "2"
      ]
     },
     "execution_count": 225,
     "metadata": {},
     "output_type": "execute_result"
    }
   ],
   "source": [
    "num_labels"
   ]
  },
  {
   "cell_type": "code",
   "execution_count": 226,
   "id": "found-outside",
   "metadata": {},
   "outputs": [],
   "source": [
    "#FIRST MODEL FROM VIDEO\n",
    "model=Sequential()\n",
    "###first layer\n",
    "model.add(Dense(100,input_shape=(40,)))\n",
    "model.add(Activation('relu'))\n",
    "model.add(Dropout(0.5))\n",
    "###second layer\n",
    "model.add(Dense(200))\n",
    "model.add(Activation('relu'))\n",
    "model.add(Dropout(0.5))\n",
    "# ###third layer\n",
    "model.add(Dense(100))\n",
    "model.add(Activation('relu'))\n",
    "model.add(Dropout(0.5))\n",
    "\n",
    "\n",
    "###final layer\n",
    "model.add(Dense(num_labels))\n",
    "model.add(Activation('softmax'))"
   ]
  },
  {
   "cell_type": "code",
   "execution_count": 227,
   "id": "d71d8e06-023c-4c2f-bd96-f36de22ba8d0",
   "metadata": {},
   "outputs": [],
   "source": [
    "# FROM medium tutorial\n",
    "# from tensorflow.keras import models, layers\n",
    "# # input_shape=(128,1000,3)\n",
    "# model = models.Sequential()\n",
    "# model.add(layers.Conv2D(32, (3, 3), activation='relu', input_shape=(40,)))\n",
    "# model.add(layers.MaxPooling2D((2, 2)))\n",
    "# model.add(layers.Dropout(0.2))\n",
    "# model.add(layers.Conv2D(64, (3, 3), activation='relu'))\n",
    "# model.add(layers.MaxPooling2D((2, 2)))\n",
    "# model.add(layers.Dropout(0.2))\n",
    "# model.add(layers.Conv2D(64, (3, 3), activation='relu'))\n",
    "# model.add(layers.Flatten())\n",
    "# model.add(layers.Dense(64, activation='relu'))\n",
    "# model.add(layers.Dropout(0.2))\n",
    "# model.add(layers.Dense(32, activation='relu'))\n",
    "# model.add(layers.Dense(24, activation='softmax'))"
   ]
  },
  {
   "cell_type": "code",
   "execution_count": 228,
   "id": "described-anaheim",
   "metadata": {},
   "outputs": [
    {
     "name": "stdout",
     "output_type": "stream",
     "text": [
      "Model: \"sequential_5\"\n",
      "_________________________________________________________________\n",
      "Layer (type)                 Output Shape              Param #   \n",
      "=================================================================\n",
      "dense_20 (Dense)             (None, 100)               4100      \n",
      "_________________________________________________________________\n",
      "activation_20 (Activation)   (None, 100)               0         \n",
      "_________________________________________________________________\n",
      "dropout_15 (Dropout)         (None, 100)               0         \n",
      "_________________________________________________________________\n",
      "dense_21 (Dense)             (None, 200)               20200     \n",
      "_________________________________________________________________\n",
      "activation_21 (Activation)   (None, 200)               0         \n",
      "_________________________________________________________________\n",
      "dropout_16 (Dropout)         (None, 200)               0         \n",
      "_________________________________________________________________\n",
      "dense_22 (Dense)             (None, 100)               20100     \n",
      "_________________________________________________________________\n",
      "activation_22 (Activation)   (None, 100)               0         \n",
      "_________________________________________________________________\n",
      "dropout_17 (Dropout)         (None, 100)               0         \n",
      "_________________________________________________________________\n",
      "dense_23 (Dense)             (None, 2)                 202       \n",
      "_________________________________________________________________\n",
      "activation_23 (Activation)   (None, 2)                 0         \n",
      "=================================================================\n",
      "Total params: 44,602\n",
      "Trainable params: 44,602\n",
      "Non-trainable params: 0\n",
      "_________________________________________________________________\n"
     ]
    }
   ],
   "source": [
    "model.summary()"
   ]
  },
  {
   "cell_type": "code",
   "execution_count": 229,
   "id": "radical-finding",
   "metadata": {},
   "outputs": [],
   "source": [
    "model.compile(loss='categorical_crossentropy',metrics=['accuracy'],optimizer='adam')"
   ]
  },
  {
   "cell_type": "code",
   "execution_count": 230,
   "id": "alpha-adapter",
   "metadata": {},
   "outputs": [
    {
     "name": "stdout",
     "output_type": "stream",
     "text": [
      "Epoch 1/30\n",
      "24/24 [==============================] - 1s 17ms/step - loss: 30.0694 - accuracy: 0.5194 - val_loss: 1.6537 - val_accuracy: 0.5522\n",
      "\n",
      "Epoch 00001: val_loss improved from inf to 1.65374, saving model to saved_models/audio_classification.hdf5\n",
      "Epoch 2/30\n",
      "24/24 [==============================] - 0s 17ms/step - loss: 15.9835 - accuracy: 0.5042 - val_loss: 1.6134 - val_accuracy: 0.4747\n",
      "\n",
      "Epoch 00002: val_loss improved from 1.65374 to 1.61343, saving model to saved_models/audio_classification.hdf5\n",
      "Epoch 3/30\n",
      "24/24 [==============================] - 0s 15ms/step - loss: 9.5837 - accuracy: 0.5144 - val_loss: 0.7464 - val_accuracy: 0.5084\n",
      "\n",
      "Epoch 00003: val_loss improved from 1.61343 to 0.74640, saving model to saved_models/audio_classification.hdf5\n",
      "Epoch 4/30\n",
      "24/24 [==============================] - 0s 18ms/step - loss: 6.5422 - accuracy: 0.5203 - val_loss: 0.7410 - val_accuracy: 0.4815\n",
      "\n",
      "Epoch 00004: val_loss improved from 0.74640 to 0.74102, saving model to saved_models/audio_classification.hdf5\n",
      "Epoch 5/30\n",
      "24/24 [==============================] - 0s 16ms/step - loss: 4.7349 - accuracy: 0.5203 - val_loss: 0.7734 - val_accuracy: 0.4781\n",
      "\n",
      "Epoch 00005: val_loss did not improve from 0.74102\n",
      "Epoch 6/30\n",
      "24/24 [==============================] - 0s 18ms/step - loss: 3.8765 - accuracy: 0.5144 - val_loss: 0.6849 - val_accuracy: 0.5185\n",
      "\n",
      "Epoch 00006: val_loss improved from 0.74102 to 0.68492, saving model to saved_models/audio_classification.hdf5\n",
      "Epoch 7/30\n",
      "24/24 [==============================] - 0s 20ms/step - loss: 2.8287 - accuracy: 0.5380 - val_loss: 0.7598 - val_accuracy: 0.4411\n",
      "\n",
      "Epoch 00007: val_loss did not improve from 0.68492\n",
      "Epoch 8/30\n",
      "24/24 [==============================] - 0s 17ms/step - loss: 2.3037 - accuracy: 0.5059 - val_loss: 0.6897 - val_accuracy: 0.5623\n",
      "\n",
      "Epoch 00008: val_loss did not improve from 0.68492\n",
      "Epoch 9/30\n",
      "24/24 [==============================] - 0s 16ms/step - loss: 2.0440 - accuracy: 0.4730 - val_loss: 0.7360 - val_accuracy: 0.4411\n",
      "\n",
      "Epoch 00009: val_loss did not improve from 0.68492\n",
      "Epoch 10/30\n",
      "24/24 [==============================] - 0s 14ms/step - loss: 1.6208 - accuracy: 0.5118 - val_loss: 0.6899 - val_accuracy: 0.5589\n",
      "\n",
      "Epoch 00010: val_loss did not improve from 0.68492\n",
      "Epoch 11/30\n",
      "24/24 [==============================] - 0s 16ms/step - loss: 1.3071 - accuracy: 0.5101 - val_loss: 0.6949 - val_accuracy: 0.4646\n",
      "\n",
      "Epoch 00011: val_loss did not improve from 0.68492\n",
      "Epoch 12/30\n",
      "24/24 [==============================] - 0s 14ms/step - loss: 1.1244 - accuracy: 0.5177 - val_loss: 0.6952 - val_accuracy: 0.4714\n",
      "\n",
      "Epoch 00012: val_loss did not improve from 0.68492\n",
      "Epoch 13/30\n",
      "24/24 [==============================] - 0s 11ms/step - loss: 1.1341 - accuracy: 0.5160 - val_loss: 0.6834 - val_accuracy: 0.5623\n",
      "\n",
      "Epoch 00013: val_loss improved from 0.68492 to 0.68336, saving model to saved_models/audio_classification.hdf5\n",
      "Epoch 14/30\n",
      "24/24 [==============================] - 0s 10ms/step - loss: 0.9373 - accuracy: 0.4932 - val_loss: 0.6877 - val_accuracy: 0.5623\n",
      "\n",
      "Epoch 00014: val_loss did not improve from 0.68336\n",
      "Epoch 15/30\n",
      "24/24 [==============================] - 0s 15ms/step - loss: 0.8898 - accuracy: 0.5160 - val_loss: 0.6886 - val_accuracy: 0.5623\n",
      "\n",
      "Epoch 00015: val_loss did not improve from 0.68336\n",
      "Epoch 16/30\n",
      "24/24 [==============================] - 0s 13ms/step - loss: 0.8370 - accuracy: 0.5262 - val_loss: 0.6930 - val_accuracy: 0.5084\n",
      "\n",
      "Epoch 00016: val_loss did not improve from 0.68336\n",
      "Epoch 17/30\n",
      "24/24 [==============================] - 0s 15ms/step - loss: 0.8508 - accuracy: 0.5169 - val_loss: 0.6977 - val_accuracy: 0.4545\n",
      "\n",
      "Epoch 00017: val_loss did not improve from 0.68336\n",
      "Epoch 18/30\n",
      "24/24 [==============================] - 0s 14ms/step - loss: 0.7978 - accuracy: 0.4958 - val_loss: 0.6866 - val_accuracy: 0.5623\n",
      "\n",
      "Epoch 00018: val_loss did not improve from 0.68336\n",
      "Epoch 19/30\n",
      "24/24 [==============================] - 0s 13ms/step - loss: 0.7751 - accuracy: 0.5118 - val_loss: 0.6894 - val_accuracy: 0.5589\n",
      "\n",
      "Epoch 00019: val_loss did not improve from 0.68336\n",
      "Epoch 20/30\n",
      "24/24 [==============================] - 0s 13ms/step - loss: 0.8230 - accuracy: 0.4873 - val_loss: 0.6913 - val_accuracy: 0.5623\n",
      "\n",
      "Epoch 00020: val_loss did not improve from 0.68336\n",
      "Epoch 21/30\n",
      "24/24 [==============================] - 0s 13ms/step - loss: 0.7869 - accuracy: 0.5194 - val_loss: 0.6898 - val_accuracy: 0.5623\n",
      "\n",
      "Epoch 00021: val_loss did not improve from 0.68336\n",
      "Epoch 22/30\n",
      "24/24 [==============================] - 0s 13ms/step - loss: 0.7529 - accuracy: 0.5262 - val_loss: 0.6859 - val_accuracy: 0.5623\n",
      "\n",
      "Epoch 00022: val_loss did not improve from 0.68336\n",
      "Epoch 23/30\n",
      "24/24 [==============================] - 0s 14ms/step - loss: 0.7483 - accuracy: 0.4916 - val_loss: 0.6900 - val_accuracy: 0.5623\n",
      "\n",
      "Epoch 00023: val_loss did not improve from 0.68336\n",
      "Epoch 24/30\n",
      "24/24 [==============================] - 0s 13ms/step - loss: 0.7427 - accuracy: 0.4992 - val_loss: 0.6928 - val_accuracy: 0.5623\n",
      "\n",
      "Epoch 00024: val_loss did not improve from 0.68336\n",
      "Epoch 25/30\n",
      "24/24 [==============================] - 0s 16ms/step - loss: 0.7666 - accuracy: 0.5169 - val_loss: 0.6871 - val_accuracy: 0.5623\n",
      "\n",
      "Epoch 00025: val_loss did not improve from 0.68336\n",
      "Epoch 26/30\n",
      "24/24 [==============================] - 0s 14ms/step - loss: 0.7278 - accuracy: 0.5220 - val_loss: 0.6908 - val_accuracy: 0.5623\n",
      "\n",
      "Epoch 00026: val_loss did not improve from 0.68336\n",
      "Epoch 27/30\n",
      "24/24 [==============================] - 0s 15ms/step - loss: 0.7308 - accuracy: 0.5152 - val_loss: 0.6881 - val_accuracy: 0.5623\n",
      "\n",
      "Epoch 00027: val_loss did not improve from 0.68336\n",
      "Epoch 28/30\n",
      "24/24 [==============================] - 0s 14ms/step - loss: 0.7050 - accuracy: 0.5279 - val_loss: 0.6895 - val_accuracy: 0.5623\n",
      "\n",
      "Epoch 00028: val_loss did not improve from 0.68336\n",
      "Epoch 29/30\n",
      "24/24 [==============================] - 0s 17ms/step - loss: 0.7406 - accuracy: 0.5127 - val_loss: 0.6896 - val_accuracy: 0.5589\n",
      "\n",
      "Epoch 00029: val_loss did not improve from 0.68336\n",
      "Epoch 30/30\n",
      "24/24 [==============================] - 0s 18ms/step - loss: 0.7513 - accuracy: 0.5017 - val_loss: 0.6891 - val_accuracy: 0.5623\n",
      "\n",
      "Epoch 00030: val_loss did not improve from 0.68336\n",
      "Training completed in time:  0:00:11.311827\n"
     ]
    }
   ],
   "source": [
    "## Trianing my model\n",
    "from tensorflow.keras.callbacks import ModelCheckpoint\n",
    "from datetime import datetime \n",
    "\n",
    "num_epochs = 30\n",
    "num_batch_size = 50\n",
    "\n",
    "checkpointer = ModelCheckpoint(filepath='saved_models/audio_classification.hdf5', \n",
    "                               verbose=1, save_best_only=True)\n",
    "start = datetime.now()\n",
    "\n",
    "model.fit(X_train, y_train, batch_size=num_batch_size, epochs=num_epochs, validation_data=(X_test, y_test), callbacks=[checkpointer], verbose=1)\n",
    "\n",
    "\n",
    "duration = datetime.now() - start\n",
    "print(\"Training completed in time: \", duration)"
   ]
  },
  {
   "cell_type": "code",
   "execution_count": 231,
   "id": "virgin-butter",
   "metadata": {},
   "outputs": [
    {
     "name": "stdout",
     "output_type": "stream",
     "text": [
      "0.5622895359992981\n"
     ]
    }
   ],
   "source": [
    "test_accuracy=model.evaluate(X_test,y_test,verbose=0)\n",
    "print(test_accuracy[1])"
   ]
  },
  {
   "cell_type": "code",
   "execution_count": 232,
   "id": "laughing-genesis",
   "metadata": {},
   "outputs": [],
   "source": [
    "# filename=\"AUDIO/breathing/ABEEJBTZ.flac\"\n",
    "# prediction_feature=features_extractor(filename)\n",
    "# prediction_feature=prediction_feature.reshape(1,-1)\n",
    "# predict_x=model.predict(prediction_feature)\n",
    "# classes_x=np.argmax(predict_x,axis=1)"
   ]
  },
  {
   "cell_type": "code",
   "execution_count": 233,
   "id": "strange-driving",
   "metadata": {},
   "outputs": [],
   "source": [
    "# X_test[1]"
   ]
  },
  {
   "cell_type": "code",
   "execution_count": 234,
   "id": "9ec72679-019a-4a13-92f6-01c74433dd9a",
   "metadata": {},
   "outputs": [],
   "source": [
    "# classes_x"
   ]
  },
  {
   "cell_type": "code",
   "execution_count": 235,
   "id": "intensive-conservative",
   "metadata": {},
   "outputs": [],
   "source": [
    "# model.predict(X_test)"
   ]
  },
  {
   "cell_type": "markdown",
   "id": "advanced-booth",
   "metadata": {},
   "source": [
    "### Testing Some Test Audio Data\n",
    "\n",
    "Steps\n",
    "- Preprocess the new audio data\n",
    "- predict the classes\n",
    "- Invere transform your Predicted Label"
   ]
  },
  {
   "cell_type": "code",
   "execution_count": 236,
   "id": "chubby-newsletter",
   "metadata": {
    "scrolled": true
   },
   "outputs": [],
   "source": [
    "# filename=\"AUGMENTED_AUDIO/breathing/GEGERRDK.flac\"\n",
    "# audio, sample_rate = librosa.load(filename, res_type='kaiser_fast') \n",
    "# mfccs_features = librosa.feature.mfcc(y=audio, sr=sample_rate, n_mfcc=40)\n",
    "# mfccs_scaled_features = np.mean(mfccs_features.T,axis=0)\n",
    "\n",
    "# print(mfccs_scaled_features)\n",
    "# mfccs_scaled_features=mfccs_scaled_features.reshape(1,-1)\n",
    "# predicted=model.predict(mfccs_scaled_features)\n",
    "# predicted_label=np.argmax(predicted,axis=1)\n",
    "# print(predicted_label)\n",
    "# prediction_class = labelencoder.inverse_transform(predicted_label) \n",
    "# print(prediction_class)"
   ]
  },
  {
   "cell_type": "code",
   "execution_count": 237,
   "id": "8c22b1ab-6a46-44b9-90a6-3a55c2850120",
   "metadata": {},
   "outputs": [],
   "source": [
    "#STARTING EVALUATION ON BLIND TEST DATA"
   ]
  },
  {
   "cell_type": "code",
   "execution_count": 238,
   "id": "32548048-392c-413e-b8f0-b882d7e5a84a",
   "metadata": {},
   "outputs": [
    {
     "data": {
      "text/html": [
       "<div>\n",
       "<style scoped>\n",
       "    .dataframe tbody tr th:only-of-type {\n",
       "        vertical-align: middle;\n",
       "    }\n",
       "\n",
       "    .dataframe tbody tr th {\n",
       "        vertical-align: top;\n",
       "    }\n",
       "\n",
       "    .dataframe thead th {\n",
       "        text-align: right;\n",
       "    }\n",
       "</style>\n",
       "<table border=\"1\" class=\"dataframe\">\n",
       "  <thead>\n",
       "    <tr style=\"text-align: right;\">\n",
       "      <th></th>\n",
       "      <th>SUB_ID</th>\n",
       "      <th>COVID_STATUS</th>\n",
       "    </tr>\n",
       "  </thead>\n",
       "  <tbody>\n",
       "    <tr>\n",
       "      <th>0</th>\n",
       "      <td>EKANDFRP</td>\n",
       "      <td>n</td>\n",
       "    </tr>\n",
       "    <tr>\n",
       "      <th>1</th>\n",
       "      <td>QXIDXPCN</td>\n",
       "      <td>n</td>\n",
       "    </tr>\n",
       "    <tr>\n",
       "      <th>2</th>\n",
       "      <td>RJNHLHRD</td>\n",
       "      <td>n</td>\n",
       "    </tr>\n",
       "    <tr>\n",
       "      <th>3</th>\n",
       "      <td>ACACIEDW</td>\n",
       "      <td>n</td>\n",
       "    </tr>\n",
       "    <tr>\n",
       "      <th>4</th>\n",
       "      <td>JVPUNCRM</td>\n",
       "      <td>n</td>\n",
       "    </tr>\n",
       "  </tbody>\n",
       "</table>\n",
       "</div>"
      ],
      "text/plain": [
       "     SUB_ID COVID_STATUS\n",
       "0  EKANDFRP            n\n",
       "1  QXIDXPCN            n\n",
       "2  RJNHLHRD            n\n",
       "3  ACACIEDW            n\n",
       "4  JVPUNCRM            n"
      ]
     },
     "execution_count": 238,
     "metadata": {},
     "output_type": "execute_result"
    }
   ],
   "source": [
    "test_metadata_breathing=pd.read_csv('test_metadata_breathing.csv')\n",
    "test_metadata_breathing.head()"
   ]
  },
  {
   "cell_type": "code",
   "execution_count": 239,
   "id": "4ec8b7fb-fb5b-41b4-8f4e-1f160324f53d",
   "metadata": {},
   "outputs": [
    {
     "name": "stderr",
     "output_type": "stream",
     "text": [
      "471it [01:10,  6.64it/s]\n"
     ]
    }
   ],
   "source": [
    "\n",
    "extracted_features=[]\n",
    "for index_num,row in tqdm(test_metadata_breathing.iterrows()):\n",
    "    file_name = os.path.join(os.path.abspath(test_breathing_dataset_path),str(row[\"SUB_ID\"]+'.flac'))\n",
    "    final_class_labels=row[\"COVID_STATUS\"]\n",
    "    if os.path.isfile(file_name):\n",
    "        data=features_extractor(file_name)\n",
    "        extracted_features.append([data,final_class_labels])\n",
    "    else:\n",
    "        print(\"ERROR to find the file\", file_name)\n",
    "        "
   ]
  },
  {
   "cell_type": "code",
   "execution_count": 246,
   "id": "7052ae21-91b9-432f-afd8-f4e8fc45cd3e",
   "metadata": {},
   "outputs": [],
   "source": [
    "### converting extracted_features to Pandas dataframe\n",
    "extracted_features_df=pd.DataFrame(extracted_features,columns=['feature','class'])\n",
    "extracted_features_df.head()\n",
    "### Split the dataset into independent and dependent dataset\n",
    "X_blindtest=np.array(extracted_features_df['feature'].tolist())\n",
    "y_blindtest=np.array(extracted_features_df['class'].tolist())\n",
    "### Label Encoder\n",
    "labelencoder=LabelEncoder()\n",
    "y_blindtest=to_categorical(labelencoder.fit_transform(y_blindtest))\n"
   ]
  },
  {
   "cell_type": "code",
   "execution_count": 247,
   "id": "9fa03f9e-f4af-40b5-bea9-de7d3693e8bc",
   "metadata": {},
   "outputs": [
    {
     "name": "stdout",
     "output_type": "stream",
     "text": [
      "15/15 [==============================] - 0s 965us/step - loss: 0.6685 - accuracy: 0.8726\n",
      "0.8726114630699158\n"
     ]
    }
   ],
   "source": [
    "test_accuracy=model.evaluate(X_blindtest,y_blindtest)\n",
    "print(test_accuracy[1])"
   ]
  },
  {
   "cell_type": "code",
   "execution_count": 248,
   "id": "90069243-ae5c-4a4c-8737-af9da4baff4d",
   "metadata": {},
   "outputs": [
    {
     "name": "stdout",
     "output_type": "stream",
     "text": [
      "[0.6685388088226318, 0.8726114630699158]\n"
     ]
    }
   ],
   "source": [
    "print(test_accuracy)\n"
   ]
  },
  {
   "cell_type": "code",
   "execution_count": null,
   "id": "705ea045-ce36-41d4-92ab-4d5c1e9403c4",
   "metadata": {},
   "outputs": [],
   "source": []
  },
  {
   "cell_type": "code",
   "execution_count": null,
   "id": "42960b8a-52ef-476d-99ff-7f410faf9fab",
   "metadata": {},
   "outputs": [],
   "source": []
  }
 ],
 "metadata": {
  "kernelspec": {
   "display_name": "Python 3 (ipykernel)",
   "language": "python",
   "name": "python3"
  },
  "language_info": {
   "codemirror_mode": {
    "name": "ipython",
    "version": 3
   },
   "file_extension": ".py",
   "mimetype": "text/x-python",
   "name": "python",
   "nbconvert_exporter": "python",
   "pygments_lexer": "ipython3",
   "version": "3.7.9"
  }
 },
 "nbformat": 4,
 "nbformat_minor": 5
}
